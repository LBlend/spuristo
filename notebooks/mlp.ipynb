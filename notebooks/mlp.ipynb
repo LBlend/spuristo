{
 "cells": [
  {
   "cell_type": "markdown",
   "metadata": {},
   "source": [
    "# MLP for spuristo"
   ]
  },
  {
   "cell_type": "code",
   "execution_count": 95,
   "metadata": {},
   "outputs": [],
   "source": [
    "import matplotlib.pyplot as plt\n",
    "import numpy as np\n",
    "from random import randint"
   ]
  },
  {
   "cell_type": "markdown",
   "metadata": {},
   "source": [
    "## Classifier setup"
   ]
  },
  {
   "cell_type": "markdown",
   "metadata": {},
   "source": [
    "This is a notebook used for testing and finding the optimal hyperparameters for our regression model"
   ]
  },
  {
   "cell_type": "code",
   "execution_count": 96,
   "metadata": {},
   "outputs": [],
   "source": [
    "# TODO: fetch real data and divide into train, dev and test sets\n",
    "\n",
    "data = [2, 8, 6, 4, 9, 3, 12]\n",
    "data = [(randint(1, 12), randint(1, 31), randint(0, 6), randint(0, 23), i) for i in data]  # (month, day, weekday, hour, devices)\n",
    "labels = [0, 3, 3, 2, 4, 1, 9]\n",
    "\n",
    "# Convert to numpy arrays\n",
    "data = np.array(data)\n",
    "labels = np.array(labels)"
   ]
  },
  {
   "cell_type": "markdown",
   "metadata": {},
   "source": [
    "## Fetch data"
   ]
  },
  {
   "cell_type": "code",
   "execution_count": 202,
   "metadata": {},
   "outputs": [],
   "source": [
    "class MLP:\n",
    "    def __init__(self, data, labels, hidden_layers=3, eta=0.01):\n",
    "        self.original_data = data\n",
    "        self.data = data\n",
    "        self.labels = labels\n",
    "        self.hidden_layers = hidden_layers\n",
    "        self.eta = eta\n",
    "\n",
    "        self.dim_in = self.data.shape[1]\n",
    "        self.dim_out = self.labels.shape[0]\n",
    "\n",
    "    def fit(self, epochs=100):\n",
    "        # Initialize weights\n",
    "        self.weights1 = np.random.rand(self.dim_in + 1, self.hidden_layers)\n",
    "        self.weights2 = np.random.rand(self.hidden_layers, self.dim_out)\n",
    "        #self.weights1_2 = (np.random.rand(self.dim_in + 1, self.hidden_layers) * 2 - 1)/np.sqrt(self.dim_in)\n",
    "        #self.weights2 = (np.random.rand(self.hidden_layers+1, self.dim_out) * 2 - 1)/np.sqrt(self.hidden_layers)\n",
    "\n",
    "        # scale data\n",
    "        self.data = self._scale(self.data)\n",
    "\n",
    "        # add bias to data\n",
    "        self.data = self._add_bias(self.data)\n",
    "\n",
    "        for _ in range(epochs):\n",
    "            hidden_activations, output_activations = self._forward(self.data)\n",
    "            self._backward(hidden_activations, output_activations)\n",
    "    \n",
    "    def _predict(self, x):\n",
    "        _, output_activations = self._forward(x)\n",
    "        return output_activations\n",
    "\n",
    "    def predict(self, x):\n",
    "        x = self._add_bias(self._scale(x))  # scale and add bias\n",
    "        _, output_activations = self._forward(x)\n",
    "        return output_activations\n",
    "\n",
    "    def accuracy(self, x_test, y_test):\n",
    "        x_test = self._add_bias(self._scale(x_test))  # scale and add bias\n",
    "        output = [np.argmax(prediction) for prediction in self._predict(x_test)]\n",
    "        return np.mean(output == y_test)\n",
    "\n",
    "    def _add_bias(self, x):\n",
    "        if len(x.shape) == 1:\n",
    "            return np.concatenate([np.array([-1]), x])\n",
    "\n",
    "        bias = np.negative(np.ones((self.data.shape[0], 1)))\n",
    "        #return np.concatenate((x, bias))\n",
    "        return np.append(x, bias, axis=1)\n",
    "\n",
    "    def _forward(self, x):\n",
    "        #hidden_activations = self._add_bias(self._sigmoid(x @ self.weights1))\n",
    "        hidden_activations = self._sigmoid(x @ self.weights1)\n",
    "        output_activations = self._sigmoid(hidden_activations @ self.weights2)\n",
    "        return hidden_activations, output_activations\n",
    "\n",
    "    def _backward(self, hidden_activations, output_activations):\n",
    "        output = (output_activations - self.labels) * output_activations * (1 - output_activations)\n",
    "        hidden = self._activation_derived(1 - output_activations) * output @ self.weights2.T\n",
    "        #hidden = hidden[:, 1:]  # remove bias\n",
    "        #hidden = hidden[:, :]  # remove bias\n",
    "\n",
    "        self.weights2 -= self.eta * hidden_activations.T @ output\n",
    "        self.weights1 -= self.eta * self.data.T @ hidden\n",
    "\n",
    "    def _sigmoid(self, x):\n",
    "        return 1 / (1 + np.exp(-x))\n",
    "\n",
    "    def _scale(self, x):\n",
    "        return (x - np.min(x)) / (np.max(x) - np.min(x))\n",
    "\n",
    "    def _activation_derived(self, x):\n",
    "        return x * (1 - x)\n"
   ]
  },
  {
   "cell_type": "markdown",
   "metadata": {},
   "source": [
    "## Training"
   ]
  },
  {
   "cell_type": "code",
   "execution_count": 203,
   "metadata": {},
   "outputs": [],
   "source": [
    "clf = MLP(data, labels)\n",
    "clf.fit(epochs=1000)"
   ]
  },
  {
   "cell_type": "markdown",
   "metadata": {},
   "source": [
    "## Results"
   ]
  },
  {
   "cell_type": "code",
   "execution_count": 212,
   "metadata": {},
   "outputs": [
    {
     "name": "stdout",
     "output_type": "stream",
     "text": [
      "[0.1459464  0.97876115 0.97675236 0.96676205 0.98435305 0.86664799\n",
      " 0.99165184]\n"
     ]
    }
   ],
   "source": [
    "new_data = np.array([10, 19, 3, 14, 20])\n",
    "print(clf.predict(new_data))\n",
    "\n",
    "#plt.scatter(clf.data, clf.labels)\n",
    "#model = list(map(clf.predict, clf.data))\n",
    "#plt.plot(clf.data, model)\n",
    "\n",
    "#plt.show()"
   ]
  }
 ],
 "metadata": {
  "kernelspec": {
   "display_name": "Python 3.10.0 64-bit",
   "language": "python",
   "name": "python3"
  },
  "language_info": {
   "codemirror_mode": {
    "name": "ipython",
    "version": 3
   },
   "file_extension": ".py",
   "mimetype": "text/x-python",
   "name": "python",
   "nbconvert_exporter": "python",
   "pygments_lexer": "ipython3",
   "version": "3.10.0"
  },
  "orig_nbformat": 4,
  "vscode": {
   "interpreter": {
    "hash": "402feb0f721b40e5b5528ea06e13ee5c60885083afd338d102264d6096ff19a9"
   }
  }
 },
 "nbformat": 4,
 "nbformat_minor": 2
}
