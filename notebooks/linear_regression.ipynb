{
 "cells": [
  {
   "cell_type": "markdown",
   "metadata": {},
   "source": [
    "# Linear regression classifier for spuristo"
   ]
  },
  {
   "cell_type": "markdown",
   "metadata": {},
   "source": [
    "This is a notebook used for testing and finding the optimal hyperparameters for our classifier"
   ]
  },
  {
   "cell_type": "markdown",
   "metadata": {},
   "source": [
    "## Fetch data"
   ]
  },
  {
   "cell_type": "code",
   "execution_count": 6,
   "metadata": {},
   "outputs": [],
   "source": [
    "# TODO: fetch real data and divide into train, dev and test sets\n",
    "\n",
    "data = [2, 8, 6, 4, 9, 3, 12]\n",
    "labels = [0, 3, 3, 2, 4, 1, 9]"
   ]
  },
  {
   "cell_type": "markdown",
   "metadata": {},
   "source": [
    "## Classifier setup"
   ]
  },
  {
   "cell_type": "code",
   "execution_count": 7,
   "metadata": {},
   "outputs": [],
   "source": [
    "import matplotlib.pyplot as plt\n",
    "import numpy as np"
   ]
  },
  {
   "cell_type": "code",
   "execution_count": 8,
   "metadata": {},
   "outputs": [],
   "source": [
    "class LinReg:\n",
    "    def __init__(self, data, labels):\n",
    "        self.data = data\n",
    "        self.labels = labels\n",
    "\n",
    "    def fit(self):\n",
    "        x_mean = np.mean(self.data)\n",
    "        y_mean = np.mean(self.labels)\n",
    "        \n",
    "        weights_1 = 0\n",
    "        weights_2 = 0\n",
    "        for x, y in zip(self.data, self.labels):\n",
    "            weights_1 += (x - x_mean)**2\n",
    "            weights_2 += (x - x_mean) * (y - y_mean)\n",
    "\n",
    "        self.slope = weights_2 / weights_1\n",
    "        self.intercept = y_mean - self.slope * x_mean\n",
    "    \n",
    "    def predict(self, x):\n",
    "        return (self.slope * x) + self.intercept"
   ]
  },
  {
   "cell_type": "markdown",
   "metadata": {},
   "source": [
    "## Training"
   ]
  },
  {
   "cell_type": "code",
   "execution_count": 9,
   "metadata": {},
   "outputs": [
    {
     "name": "stdout",
     "output_type": "stream",
     "text": [
      "0.7583025830258305 -1.6236162361623632\n"
     ]
    }
   ],
   "source": [
    "clf = LinReg(data, labels)\n",
    "clf.fit()\n",
    "print(clf.slope, clf.intercept)"
   ]
  },
  {
   "cell_type": "markdown",
   "metadata": {},
   "source": [
    "## Results"
   ]
  },
  {
   "cell_type": "code",
   "execution_count": 10,
   "metadata": {},
   "outputs": [
    {
     "name": "stdout",
     "output_type": "stream",
     "text": [
      "13.542435424354249\n"
     ]
    },
    {
     "data": {
      "image/png": "[encoded data removed]",
      "text/plain": [
       "<Figure size 432x288 with 1 Axes>"
      ]
     },
     "metadata": {
      "needs_background": "light"
     },
     "output_type": "display_data"
    }
   ],
   "source": [
    "new_data = 20\n",
    "print(clf.predict(new_data))\n",
    "\n",
    "plt.scatter(clf.data, clf.labels)\n",
    "model = list(map(clf.predict, clf.data))\n",
    "plt.plot(clf.data, model)\n",
    "\n",
    "plt.show()"
   ]
  }
 ],
 "metadata": {
  "kernelspec": {
   "display_name": "Python 3.10.0 64-bit",
   "language": "python",
   "name": "python3"
  },
  "language_info": {
   "codemirror_mode": {
    "name": "ipython",
    "version": 3
   },
   "file_extension": ".py",
   "mimetype": "text/x-python",
   "name": "python",
   "nbconvert_exporter": "python",
   "pygments_lexer": "ipython3",
   "version": "3.10.0"
  },
  "orig_nbformat": 4,
  "vscode": {
   "interpreter": {
    "hash": "402feb0f721b40e5b5528ea06e13ee5c60885083afd338d102264d6096ff19a9"
   }
  }
 },
 "nbformat": 4,
 "nbformat_minor": 2
}
