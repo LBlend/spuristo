{
 "cells": [
  {
   "cell_type": "markdown",
   "metadata": {},
   "source": [
    "# Linear regression classifier for spuristo"
   ]
  },
  {
   "cell_type": "markdown",
   "metadata": {},
   "source": [
    "This is a notebook used for testing and finding the optimal hyperparameters for our classifier"
   ]
  },
  {
   "cell_type": "markdown",
   "metadata": {},
   "source": [
    "## Fetch data"
   ]
  },
  {
   "cell_type": "code",
   "execution_count": null,
   "metadata": {
    "vscode": {
     "languageId": "python"
    }
   },
   "outputs": [],
   "source": [
    "# TODO: fetch real data and divide into train, dev and test sets\n",
    "\n",
    "data = [2, 8, 6, 4, 9, 3, 12]\n",
    "labels = [0, 3, 3, 2, 4, 1, 9]"
   ]
  },
  {
   "cell_type": "markdown",
   "metadata": {},
   "source": [
    "## Classifier setup"
   ]
  },
  {
   "cell_type": "code",
   "execution_count": null,
   "metadata": {
    "vscode": {
     "languageId": "python"
    }
   },
   "outputs": [],
   "source": [
    "import matplotlib.pyplot as plt\n",
    "import numpy as np"
   ]
  },
  {
   "cell_type": "code",
   "execution_count": null,
   "metadata": {
    "vscode": {
     "languageId": "python"
    }
   },
   "outputs": [],
   "source": [
    "class LinReg:\n",
    "    def __init__(self, data, labels):\n",
    "        self.data = data\n",
    "        self.labels = labels\n",
    "\n",
    "    def fit(self):\n",
    "        x_mean = np.sum(self.data) / len(self.data)\n",
    "        y_mean = np.sum(self.labels) / len(self.labels)\n",
    "        \n",
    "        weights_1 = 0\n",
    "        weights_2 = 0\n",
    "        for x, y in zip(self.data, self.labels):\n",
    "            weights_1 += (x - x_mean) * (x - x_mean)\n",
    "            weights_2 += (x - x_mean) * (y - y_mean)\n",
    "        \n",
    "        self.slope = weights_2 / weights_1\n",
    "        self.intercept = y_mean - self.slope * x_mean\n",
    "    \n",
    "    def predict(self, x):\n",
    "        return (self.slope * x) + self.intercept"
   ]
  },
  {
   "cell_type": "markdown",
   "metadata": {},
   "source": [
    "## Training"
   ]
  },
  {
   "cell_type": "code",
   "execution_count": null,
   "metadata": {
    "vscode": {
     "languageId": "python"
    }
   },
   "outputs": [],
   "source": [
    "clf = LinReg(data, labels)\n",
    "clf.fit()\n",
    "print(clf.slope, clf.intercept)"
   ]
  },
  {
   "cell_type": "markdown",
   "metadata": {},
   "source": [
    "## Results"
   ]
  },
  {
   "cell_type": "code",
   "execution_count": null,
   "metadata": {
    "vscode": {
     "languageId": "python"
    }
   },
   "outputs": [],
   "source": [
    "new_data = 20\n",
    "\n",
    "print(clf.predict(new_data))\n",
    "plt.scatter(clf.data, clf.labels)\n",
    "model = list(map(clf.predict, clf.data))\n",
    "plt.plot(clf.data, model)\n",
    "plt.show()"
   ]
  }
 ],
 "metadata": {
  "kernelspec": {
   "display_name": "Python 3",
   "language": "python",
   "name": "python3"
  },
  "orig_nbformat": 4
 },
 "nbformat": 4,
 "nbformat_minor": 2
}
